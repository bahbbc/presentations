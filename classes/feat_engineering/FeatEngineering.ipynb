{
 "cells": [
  {
   "cell_type": "markdown",
   "metadata": {},
   "source": [
    "# Feature Engineering"
   ]
  },
  {
   "cell_type": "markdown",
   "metadata": {},
   "source": [
    "Outcomes esperados:\n",
    "\n",
    " - Conhecer possíveis soluções para dados nulos para minimizar a perda de dados\n",
    "\n",
    " - Entender a necessidade de normalização ou estandardização de features em modelos lineares\n",
    "\n",
    " - Discutir as possíveis vantagens e melhorias de performance de modelos quando se transforma os dados\n",
    "\n",
    " - Aprender estratégias de encoding de variáveis categóricas, como one-hot-encoding, label encoding, binary encoding, count encoding, etc, discutindo vantagens e desvantagens de cada abordagem\n",
    "\n",
    " - Saber transformar features e criar novas features, derivadas das features originais\n",
    "\n",
    " - Entender abordagens para se lidar com features temporais e espaciais/geográficas"
   ]
  },
  {
   "cell_type": "markdown",
   "metadata": {},
   "source": [
    "> “Coming up with features is difficult, time-consuming, requires expert knowledge. ‘Applied machine learning’ is basically feature engineering.”\n",
    "— Prof. Andrew Ng.\n",
    "\n",
    "![](https://media.giphy.com/media/3ZALZoBtI1KJa/giphy.gif)"
   ]
  },
  {
   "cell_type": "markdown",
   "metadata": {},
   "source": [
    "## Quais decisões que tomamos na aula retrasada e poderiam ser melhoradas?"
   ]
  },
  {
   "cell_type": "markdown",
   "metadata": {},
   "source": [
    " - Faz sentido utilizar só os atributos númericos?\n",
    " - Faz sentido usar os atributos númericos do jeito que eles vieram?\n",
    " - Faz sentido substituir os nulos TODOS por zero?\n",
    " - O que fazer com os atributos geográficos?\n",
    " - É possível melhorar os atributos que já existem?"
   ]
  },
  {
   "cell_type": "markdown",
   "metadata": {},
   "source": [
    "## Vamos fazer uma nova tentativa com mais carinho com os dados"
   ]
  },
  {
   "cell_type": "code",
   "execution_count": 1,
   "metadata": {
    "collapsed": true
   },
   "outputs": [],
   "source": [
    "import numpy as np\n",
    "import pandas as pd\n",
    "from sklearn.model_selection import train_test_split\n",
    "from sklearn.preprocessing import StandardScaler\n",
    "from sklearn.linear_model import LogisticRegression\n",
    "from sklearn.base import BaseEstimator, TransformerMixin\n",
    "from sklearn.pipeline import Pipeline\n",
    "from sklearn.metrics import roc_auc_score\n",
    "from sklearn.metrics import roc_curve\n",
    "import matplotlib.pyplot as plt\n",
    "\n",
    "%matplotlib inline"
   ]
  },
  {
   "cell_type": "code",
   "execution_count": 2,
   "metadata": {
    "collapsed": true
   },
   "outputs": [],
   "source": [
    "from confusion_matrix import plot_confusion_matrix"
   ]
  },
  {
   "cell_type": "code",
   "execution_count": 3,
   "metadata": {
    "collapsed": true
   },
   "outputs": [],
   "source": [
    "# carregue o dataset novamente"
   ]
  },
  {
   "cell_type": "code",
   "execution_count": 4,
   "metadata": {},
   "outputs": [],
   "source": [
    "df = pd.read_csv('lending-club-loan-data/small_loan.csv', low_memory=False)"
   ]
  },
  {
   "cell_type": "code",
   "execution_count": 5,
   "metadata": {
    "collapsed": true
   },
   "outputs": [],
   "source": [
    "df = df[(df.loan_status != 'Current')]\n",
    "df['good_loan'] = df.loan_status == 'Fully Paid'"
   ]
  },
  {
   "cell_type": "markdown",
   "metadata": {
    "collapsed": true
   },
   "source": [
    "Sabemos que a distribuição dos dados numéricos não está normalizada. Vamos usar o standard scale para corrigir isso"
   ]
  },
  {
   "cell_type": "code",
   "execution_count": 6,
   "metadata": {
    "collapsed": true
   },
   "outputs": [],
   "source": [
    "initial_vars = ['loan_amnt', 'int_rate', 'installment', 'annual_inc',\n",
    "       'dti', 'delinq_2yrs', 'inq_last_6mths',\n",
    "       'mths_since_last_delinq', 'mths_since_last_record', 'open_acc',\n",
    "       'pub_rec', 'revol_bal', 'revol_util', 'total_acc', 'good_loan']"
   ]
  },
  {
   "cell_type": "code",
   "execution_count": 7,
   "metadata": {
    "collapsed": true
   },
   "outputs": [],
   "source": [
    "numeric_df = df[initial_vars]"
   ]
  },
  {
   "cell_type": "code",
   "execution_count": 8,
   "metadata": {
    "collapsed": true
   },
   "outputs": [],
   "source": [
    "#antes de normalizar as variáveis precisamos substituir os nulos"
   ]
  },
  {
   "cell_type": "code",
   "execution_count": 9,
   "metadata": {},
   "outputs": [
    {
     "data": {
      "text/plain": [
       "mths_since_last_record    0.816592\n",
       "mths_since_last_delinq    0.506940\n",
       "dti                       0.001375\n",
       "revol_util                0.001019\n",
       "good_loan                 0.000000\n",
       "total_acc                 0.000000\n",
       "revol_bal                 0.000000\n",
       "pub_rec                   0.000000\n",
       "open_acc                  0.000000\n",
       "inq_last_6mths            0.000000\n",
       "delinq_2yrs               0.000000\n",
       "annual_inc                0.000000\n",
       "installment               0.000000\n",
       "int_rate                  0.000000\n",
       "loan_amnt                 0.000000\n",
       "dtype: float64"
      ]
     },
     "execution_count": 9,
     "metadata": {},
     "output_type": "execute_result"
    }
   ],
   "source": [
    "numeric_df.isnull().mean().sort_values(ascending=False).head(50)"
   ]
  },
  {
   "cell_type": "code",
   "execution_count": 10,
   "metadata": {
    "collapsed": true
   },
   "outputs": [],
   "source": [
    "#verifique a média e mediana desses atributos. Elas estão muito distantes? Qual o desvio padrão de cada atributo?\n",
    "# com essa informação em mãos, escolha usar a média ou a mediana para substituir os valores nulos."
   ]
  },
  {
   "cell_type": "code",
   "execution_count": 11,
   "metadata": {
    "collapsed": true
   },
   "outputs": [],
   "source": [
    "numeric_df = numeric_df.fillna(numeric_df.mean())"
   ]
  },
  {
   "cell_type": "code",
   "execution_count": 12,
   "metadata": {
    "collapsed": true
   },
   "outputs": [],
   "source": [
    "# outra possibilidade inteligente seria substituir os valores médios pelas suas respectivas regiões."
   ]
  },
  {
   "cell_type": "code",
   "execution_count": 13,
   "metadata": {
    "collapsed": true
   },
   "outputs": [],
   "source": [
    "#complete_df[\"mths_since_last_record\"] = complete_df.groupby(\"addr_state\")[\"mths_since_last_record\"].transform(lambda x: \n",
    "#                                                                                                          x.fillna(x.mean()))"
   ]
  },
  {
   "cell_type": "code",
   "execution_count": 14,
   "metadata": {
    "collapsed": true
   },
   "outputs": [],
   "source": [
    "# vamos separar o conjunto de treino e teste antes de preparar os dados"
   ]
  },
  {
   "cell_type": "code",
   "execution_count": 15,
   "metadata": {
    "collapsed": true
   },
   "outputs": [],
   "source": [
    "X_train, X_test, y_train, y_test = train_test_split(numeric_df.drop('good_loan',axis=1),\n",
    "                                                    numeric_df['good_loan'],test_size=0.3,random_state=42)"
   ]
  },
  {
   "cell_type": "code",
   "execution_count": 16,
   "metadata": {
    "collapsed": true
   },
   "outputs": [],
   "source": [
    "# agora podemos usar o Standard Scaler"
   ]
  },
  {
   "cell_type": "code",
   "execution_count": 17,
   "metadata": {
    "collapsed": true
   },
   "outputs": [],
   "source": [
    "scaler = StandardScaler()\n",
    "scaler.fit(X_train)\n",
    "X_scaled = scaler.transform(X_train)"
   ]
  },
  {
   "cell_type": "code",
   "execution_count": 18,
   "metadata": {
    "collapsed": true
   },
   "outputs": [],
   "source": [
    "# agora que nos usamos o z-score, será que a nossa predição ficou melhor?"
   ]
  },
  {
   "cell_type": "code",
   "execution_count": 19,
   "metadata": {
    "collapsed": true
   },
   "outputs": [],
   "source": [
    "balanced_clf = LogisticRegression(random_state=42, class_weight='balanced').fit(X_scaled, y_train)"
   ]
  },
  {
   "cell_type": "code",
   "execution_count": 20,
   "metadata": {
    "collapsed": true
   },
   "outputs": [],
   "source": [
    "X_test_scaled = scaler.transform(X_test)"
   ]
  },
  {
   "cell_type": "code",
   "execution_count": 21,
   "metadata": {
    "collapsed": true
   },
   "outputs": [],
   "source": [
    "y_pred = balanced_clf.predict(X_test_scaled)"
   ]
  },
  {
   "cell_type": "code",
   "execution_count": 22,
   "metadata": {},
   "outputs": [
    {
     "name": "stdout",
     "output_type": "stream",
     "text": [
      "Normalized confusion matrix\n",
      "[[ 0.61578241  0.38421759]\n",
      " [ 0.34690951  0.65309049]]\n"
     ]
    },
    {
     "data": {
      "text/plain": [
       "<matplotlib.axes._subplots.AxesSubplot at 0x7fa852cb69b0>"
      ]
     },
     "execution_count": 22,
     "metadata": {},
     "output_type": "execute_result"
    },
    {
     "data": {
      "image/png": "[encoded data removed]",
      "text/plain": [
       "<matplotlib.figure.Figure at 0x7fa852c681d0>"
      ]
     },
     "metadata": {},
     "output_type": "display_data"
    }
   ],
   "source": [
    "plot_confusion_matrix(y_test, y_pred, normalize=True,\n",
    "                      title='Confusion matrix, normalized')"
   ]
  },
  {
   "cell_type": "code",
   "execution_count": 23,
   "metadata": {
    "collapsed": true
   },
   "outputs": [],
   "source": [
    "# e se eu mudasse o pipeline e usasse o RobustScaler?"
   ]
  },
  {
   "cell_type": "code",
   "execution_count": 24,
   "metadata": {
    "collapsed": true
   },
   "outputs": [],
   "source": [
    "from sklearn.preprocessing import RobustScaler"
   ]
  },
  {
   "cell_type": "code",
   "execution_count": 25,
   "metadata": {
    "collapsed": true
   },
   "outputs": [],
   "source": [
    "transformer = RobustScaler().fit(X_train)\n",
    "X_train_transformed = transformer.transform(X_train)"
   ]
  },
  {
   "cell_type": "code",
   "execution_count": 26,
   "metadata": {},
   "outputs": [
    {
     "data": {
      "text/plain": [
       "LogisticRegression(C=1.0, class_weight='balanced', dual=False,\n",
       "          fit_intercept=True, intercept_scaling=1, max_iter=100,\n",
       "          multi_class='ovr', n_jobs=1, penalty='l2', random_state=42,\n",
       "          solver='liblinear', tol=0.0001, verbose=0, warm_start=False)"
      ]
     },
     "execution_count": 26,
     "metadata": {},
     "output_type": "execute_result"
    }
   ],
   "source": [
    "balanced_clf.fit(X_train_transformed, y_train)"
   ]
  },
  {
   "cell_type": "code",
   "execution_count": 27,
   "metadata": {
    "collapsed": true
   },
   "outputs": [],
   "source": [
    "X_test_scaled = scaler.transform(X_test)"
   ]
  },
  {
   "cell_type": "code",
   "execution_count": 28,
   "metadata": {
    "collapsed": true
   },
   "outputs": [],
   "source": [
    "y_pred = balanced_clf.predict(X_test_scaled)"
   ]
  },
  {
   "cell_type": "code",
   "execution_count": 29,
   "metadata": {},
   "outputs": [
    {
     "name": "stdout",
     "output_type": "stream",
     "text": [
      "Normalized confusion matrix\n",
      "[[ 0.54969917  0.45030083]\n",
      " [ 0.29870316  0.70129684]]\n"
     ]
    },
    {
     "data": {
      "text/plain": [
       "<matplotlib.axes._subplots.AxesSubplot at 0x7fa852db0b00>"
      ]
     },
     "execution_count": 29,
     "metadata": {},
     "output_type": "execute_result"
    },
    {
     "data": {
      "image/png": "[encoded data removed]",
      "text/plain": [
       "<matplotlib.figure.Figure at 0x7fa85360e080>"
      ]
     },
     "metadata": {},
     "output_type": "display_data"
    }
   ],
   "source": [
    "plot_confusion_matrix(y_test, y_pred, normalize=True,\n",
    "                      title='Confusion matrix, normalized')"
   ]
  },
  {
   "cell_type": "markdown",
   "metadata": {},
   "source": [
    "## E as variáveis categóricas?"
   ]
  },
  {
   "cell_type": "markdown",
   "metadata": {},
   "source": [
    "Podemos adicionar as variáveis da forma como estão?"
   ]
  },
  {
   "cell_type": "code",
   "execution_count": 30,
   "metadata": {
    "collapsed": true
   },
   "outputs": [],
   "source": [
    "# vamos voltar a usar o dataset original"
   ]
  },
  {
   "cell_type": "code",
   "execution_count": 31,
   "metadata": {
    "collapsed": true
   },
   "outputs": [],
   "source": [
    "complete_df = ['loan_amnt', 'term', 'int_rate', 'installment', 'grade',\n",
    "       'home_ownership', 'annual_inc', 'verification_status', 'pymnt_plan',\n",
    "       'purpose', 'addr_state', 'dti', 'delinq_2yrs', 'inq_last_6mths',\n",
    "       'mths_since_last_delinq', 'mths_since_last_record', 'open_acc',\n",
    "       'pub_rec', 'revol_bal', 'revol_util', 'total_acc', 'good_loan']"
   ]
  },
  {
   "cell_type": "code",
   "execution_count": 32,
   "metadata": {
    "collapsed": true
   },
   "outputs": [],
   "source": [
    "# adicionar variáveis categoricas"
   ]
  },
  {
   "cell_type": "code",
   "execution_count": 33,
   "metadata": {
    "collapsed": true
   },
   "outputs": [],
   "source": [
    "cat_df = df[complete_df]"
   ]
  },
  {
   "cell_type": "code",
   "execution_count": 34,
   "metadata": {},
   "outputs": [
    {
     "data": {
      "text/plain": [
       "mths_since_last_record    0.816592\n",
       "mths_since_last_delinq    0.506940\n",
       "dti                       0.001375\n",
       "revol_util                0.001019\n",
       "good_loan                 0.000000\n",
       "pymnt_plan                0.000000\n",
       "term                      0.000000\n",
       "int_rate                  0.000000\n",
       "installment               0.000000\n",
       "grade                     0.000000\n",
       "home_ownership            0.000000\n",
       "annual_inc                0.000000\n",
       "verification_status       0.000000\n",
       "addr_state                0.000000\n",
       "purpose                   0.000000\n",
       "total_acc                 0.000000\n",
       "delinq_2yrs               0.000000\n",
       "inq_last_6mths            0.000000\n",
       "open_acc                  0.000000\n",
       "pub_rec                   0.000000\n",
       "revol_bal                 0.000000\n",
       "loan_amnt                 0.000000\n",
       "dtype: float64"
      ]
     },
     "execution_count": 34,
     "metadata": {},
     "output_type": "execute_result"
    }
   ],
   "source": [
    "cat_df.isnull().mean().sort_values(ascending=False)"
   ]
  },
  {
   "cell_type": "code",
   "execution_count": 35,
   "metadata": {
    "collapsed": true
   },
   "outputs": [],
   "source": [
    "cat_df = cat_df.fillna(numeric_df.mean())"
   ]
  },
  {
   "cell_type": "code",
   "execution_count": 36,
   "metadata": {
    "collapsed": true
   },
   "outputs": [],
   "source": [
    "# temos que dividir o conjunto em treino e teste novamente"
   ]
  },
  {
   "cell_type": "code",
   "execution_count": 37,
   "metadata": {},
   "outputs": [],
   "source": [
    "X_train, X_test, y_train, y_test = train_test_split(cat_df.drop('good_loan',axis=1),\n",
    "                                                    cat_df['good_loan'],test_size=0.3,random_state=42)"
   ]
  },
  {
   "cell_type": "code",
   "execution_count": 38,
   "metadata": {
    "collapsed": true
   },
   "outputs": [],
   "source": [
    "# verificar os diferentes tipos de atributos categoricos"
   ]
  },
  {
   "cell_type": "code",
   "execution_count": 39,
   "metadata": {
    "collapsed": true
   },
   "outputs": [],
   "source": [
    "x_train = X_train.copy()"
   ]
  },
  {
   "cell_type": "markdown",
   "metadata": {},
   "source": [
    "### One Hot Enconding"
   ]
  },
  {
   "cell_type": "markdown",
   "metadata": {},
   "source": [
    " - Usado com a maioria dos algoritmos lineares\n",
    " - Excluir a primeira coluna evita colinearidade\n",
    " - Não introduz ordem ao atributo\n",
    " - Aumenta a dimensionalidade do dataset"
   ]
  },
  {
   "cell_type": "code",
   "execution_count": 40,
   "metadata": {},
   "outputs": [
    {
     "data": {
      "text/plain": [
       "CA    33150\n",
       "TX    19181\n",
       "NY    18198\n",
       "FL    17263\n",
       "IL     7964\n",
       "Name: addr_state, dtype: int64"
      ]
     },
     "execution_count": 40,
     "metadata": {},
     "output_type": "execute_result"
    }
   ],
   "source": [
    "cat_df.addr_state.value_counts().head()"
   ]
  },
  {
   "cell_type": "code",
   "execution_count": 41,
   "metadata": {},
   "outputs": [],
   "source": [
    "state_dummies = pd.get_dummies(x_train.addr_state, drop_first=True)"
   ]
  },
  {
   "cell_type": "markdown",
   "metadata": {},
   "source": [
    "Enquanto trabalhamos modificando datasets é importante fazer validações das transformações que realizamos nele. Vamos construindo verificações do tamanho da dataset conforme formos fazendo visualizações."
   ]
  },
  {
   "cell_type": "code",
   "execution_count": 42,
   "metadata": {},
   "outputs": [
    {
     "data": {
      "text/plain": [
       "(160817, 21)"
      ]
     },
     "execution_count": 42,
     "metadata": {},
     "output_type": "execute_result"
    }
   ],
   "source": [
    "x_train.shape"
   ]
  },
  {
   "cell_type": "code",
   "execution_count": 43,
   "metadata": {
    "collapsed": true
   },
   "outputs": [],
   "source": [
    "# coloque os dummies no dataset de treino e remova a coluna original"
   ]
  },
  {
   "cell_type": "code",
   "execution_count": 44,
   "metadata": {},
   "outputs": [
    {
     "data": {
      "text/plain": [
       "(160817, 70)"
      ]
     },
     "execution_count": 44,
     "metadata": {},
     "output_type": "execute_result"
    }
   ],
   "source": [
    "x_train = pd.concat([x_train, state_dummies], axis=1)\n",
    "\n",
    "# validação\n",
    "x_train.shape"
   ]
  },
  {
   "cell_type": "code",
   "execution_count": 45,
   "metadata": {},
   "outputs": [],
   "source": [
    "x_train.drop('addr_state',axis=1, inplace=True)"
   ]
  },
  {
   "cell_type": "code",
   "execution_count": 46,
   "metadata": {},
   "outputs": [
    {
     "data": {
      "text/plain": [
       "(160817, 69)"
      ]
     },
     "execution_count": 46,
     "metadata": {},
     "output_type": "execute_result"
    }
   ],
   "source": [
    "x_train.shape"
   ]
  },
  {
   "cell_type": "code",
   "execution_count": 47,
   "metadata": {
    "collapsed": true
   },
   "outputs": [],
   "source": [
    "# Agora é necessário fazer isso para as variáveis verification_status e pymnt_plan"
   ]
  },
  {
   "cell_type": "code",
   "execution_count": 48,
   "metadata": {
    "collapsed": true
   },
   "outputs": [],
   "source": [
    "# Poderiamos construir uma classe que faz isso para todas as variáveis"
   ]
  },
  {
   "cell_type": "code",
   "execution_count": 49,
   "metadata": {},
   "outputs": [
    {
     "data": {
      "text/plain": [
       "Source Verified    91519\n",
       "Not Verified       77442\n",
       "Verified           60778\n",
       "Name: verification_status, dtype: int64"
      ]
     },
     "execution_count": 49,
     "metadata": {},
     "output_type": "execute_result"
    }
   ],
   "source": [
    "cat_df.verification_status.value_counts()"
   ]
  },
  {
   "cell_type": "code",
   "execution_count": 50,
   "metadata": {
    "collapsed": true
   },
   "outputs": [],
   "source": [
    "verification_dummies = pd.get_dummies(x_train.verification_status, prefix=\"verification_status-\", drop_first=True)"
   ]
  },
  {
   "cell_type": "code",
   "execution_count": 51,
   "metadata": {},
   "outputs": [
    {
     "data": {
      "text/plain": [
       "(160817, 71)"
      ]
     },
     "execution_count": 51,
     "metadata": {},
     "output_type": "execute_result"
    }
   ],
   "source": [
    "x_train = pd.concat([x_train, verification_dummies], axis=1)\n",
    "# validação\n",
    "x_train.shape"
   ]
  },
  {
   "cell_type": "code",
   "execution_count": 52,
   "metadata": {},
   "outputs": [
    {
     "data": {
      "text/plain": [
       "(160817, 70)"
      ]
     },
     "execution_count": 52,
     "metadata": {},
     "output_type": "execute_result"
    }
   ],
   "source": [
    "x_train.drop('verification_status',axis=1, inplace=True)\n",
    "x_train.shape"
   ]
  },
  {
   "cell_type": "code",
   "execution_count": 53,
   "metadata": {},
   "outputs": [
    {
     "data": {
      "text/plain": [
       "n    229284\n",
       "y       455\n",
       "Name: pymnt_plan, dtype: int64"
      ]
     },
     "execution_count": 53,
     "metadata": {},
     "output_type": "execute_result"
    }
   ],
   "source": [
    "cat_df.pymnt_plan.value_counts()"
   ]
  },
  {
   "cell_type": "code",
   "execution_count": 54,
   "metadata": {
    "collapsed": true
   },
   "outputs": [],
   "source": [
    "pymnt_plan_dummies = pd.get_dummies(x_train.pymnt_plan, prefix=\"pymnt_plan-\",  drop_first=True)"
   ]
  },
  {
   "cell_type": "code",
   "execution_count": 55,
   "metadata": {},
   "outputs": [
    {
     "data": {
      "text/plain": [
       "(160817, 71)"
      ]
     },
     "execution_count": 55,
     "metadata": {},
     "output_type": "execute_result"
    }
   ],
   "source": [
    "x_train = pd.concat([x_train, pymnt_plan_dummies], axis=1)\n",
    "# validação\n",
    "x_train.shape"
   ]
  },
  {
   "cell_type": "markdown",
   "metadata": {},
   "source": [
    "E se eu quisesse escrever uma função que faria isso de maneira mais organizada?\n",
    "Vamos utilizar uma classe e colocar todo o nosso processamento de OHE lá"
   ]
  },
  {
   "cell_type": "code",
   "execution_count": 56,
   "metadata": {},
   "outputs": [],
   "source": [
    "class CategoricalToDummyFeaturesTransform(BaseEstimator, TransformerMixin):\n",
    "    \"\"\" Classe de Feature Transformer que transforma labels na representação Dummy.\n",
    "        Esse imputer mantém a entrada X como um DataFrame em vez de transformar em numpy.array.\n",
    "    \"\"\"\n",
    "        \n",
    "    def fit(self, X, y=None, **fit_params):\n",
    "        return self\n",
    "    \n",
    "    def transform(self, X):        \n",
    "        X_t = X.drop(['pymnt_plan', 'verification_status', 'addr_state', 'term'], axis=1)\n",
    "        \n",
    "        pymnt_plan_dummies = pd.get_dummies(X.pymnt_plan, prefix=\"pymnt_plan\",  drop_first=True)\n",
    "        verification_dummies = pd.get_dummies(X.verification_status, \n",
    "                                              prefix=\"verification_status\", drop_first=True)\n",
    "        state_dummies = pd.get_dummies(X.addr_state, drop_first=True)\n",
    "        term_dummies = pd.get_dummies(X.term, drop_first=True)\n",
    "        \n",
    "        \n",
    "        X_t = pd.concat([X_t, pymnt_plan_dummies, verification_dummies, state_dummies, term_dummies], axis=1)\n",
    "        \n",
    "        return X_t\n"
   ]
  },
  {
   "cell_type": "code",
   "execution_count": 57,
   "metadata": {},
   "outputs": [],
   "source": [
    "X = CategoricalToDummyFeaturesTransform().transform(X_train)"
   ]
  },
  {
   "cell_type": "code",
   "execution_count": 58,
   "metadata": {},
   "outputs": [
    {
     "data": {
      "text/plain": [
       "Index(['loan_amnt', 'int_rate', 'installment', 'grade', 'home_ownership',\n",
       "       'annual_inc', 'purpose', 'dti', 'delinq_2yrs', 'inq_last_6mths',\n",
       "       'mths_since_last_delinq', 'mths_since_last_record', 'open_acc',\n",
       "       'pub_rec', 'revol_bal', 'revol_util', 'total_acc', 'pymnt_plan_y',\n",
       "       'verification_status_Source Verified', 'verification_status_Verified',\n",
       "       'AL', 'AR', 'AZ', 'CA', 'CO', 'CT', 'DC', 'DE', 'FL', 'GA', 'HI', 'ID',\n",
       "       'IL', 'IN', 'KS', 'KY', 'LA', 'MA', 'MD', 'ME', 'MI', 'MN', 'MO', 'MS',\n",
       "       'MT', 'NC', 'ND', 'NE', 'NH', 'NJ', 'NM', 'NV', 'NY', 'OH', 'OK', 'OR',\n",
       "       'PA', 'RI', 'SC', 'SD', 'TN', 'TX', 'UT', 'VA', 'VT', 'WA', 'WI', 'WV',\n",
       "       'WY', ' 60 months'],\n",
       "      dtype='object')"
      ]
     },
     "execution_count": 58,
     "metadata": {},
     "output_type": "execute_result"
    }
   ],
   "source": [
    "X.columns"
   ]
  },
  {
   "cell_type": "code",
   "execution_count": 59,
   "metadata": {},
   "outputs": [
    {
     "data": {
      "text/plain": [
       "(160817, 70)"
      ]
     },
     "execution_count": 59,
     "metadata": {},
     "output_type": "execute_result"
    }
   ],
   "source": [
    "X.shape"
   ]
  },
  {
   "cell_type": "markdown",
   "metadata": {},
   "source": [
    "### Label Enconder"
   ]
  },
  {
   "cell_type": "markdown",
   "metadata": {},
   "source": [
    " - Give every categorical variable a unique numerical ID\n",
    " - Useful for non-linear tree-based algorithms\n",
    " - Does not increase dimensionality\n",
    " - Traz ordem aos atributos "
   ]
  },
  {
   "cell_type": "markdown",
   "metadata": {},
   "source": [
    "Vamos usar Label Enconder no atributo _grade_"
   ]
  },
  {
   "cell_type": "code",
   "execution_count": 60,
   "metadata": {
    "collapsed": true
   },
   "outputs": [],
   "source": [
    "from sklearn import preprocessing\n",
    "le = preprocessing.LabelEncoder().fit(x_train.grade)"
   ]
  },
  {
   "cell_type": "code",
   "execution_count": 61,
   "metadata": {},
   "outputs": [],
   "source": [
    "grade_enconded = le.transform(x_train.grade)"
   ]
  },
  {
   "cell_type": "code",
   "execution_count": 62,
   "metadata": {},
   "outputs": [
    {
     "data": {
      "text/plain": [
       "array([6, 2, 3, ..., 2, 3, 2])"
      ]
     },
     "execution_count": 62,
     "metadata": {},
     "output_type": "execute_result"
    }
   ],
   "source": [
    "grade_enconded"
   ]
  },
  {
   "cell_type": "code",
   "execution_count": 63,
   "metadata": {},
   "outputs": [
    {
     "data": {
      "text/plain": [
       "['A', 'B', 'C']"
      ]
     },
     "execution_count": 63,
     "metadata": {},
     "output_type": "execute_result"
    }
   ],
   "source": [
    "list(le.inverse_transform([0, 1, 2]))"
   ]
  },
  {
   "cell_type": "code",
   "execution_count": 64,
   "metadata": {},
   "outputs": [],
   "source": [
    "x_train = x_train.replace({\"grade\": grade_enconded})"
   ]
  },
  {
   "cell_type": "code",
   "execution_count": 65,
   "metadata": {},
   "outputs": [
    {
     "data": {
      "text/plain": [
       "C    50693\n",
       "B    43388\n",
       "A    25990\n",
       "D    25745\n",
       "E    10034\n",
       "F     3260\n",
       "G     1707\n",
       "Name: grade, dtype: int64"
      ]
     },
     "execution_count": 65,
     "metadata": {},
     "output_type": "execute_result"
    }
   ],
   "source": [
    "x_train.grade.value_counts()"
   ]
  },
  {
   "cell_type": "code",
   "execution_count": 66,
   "metadata": {},
   "outputs": [
    {
     "data": {
      "text/plain": [
       "(160817, 71)"
      ]
     },
     "execution_count": 66,
     "metadata": {},
     "output_type": "execute_result"
    }
   ],
   "source": [
    "x_train.shape"
   ]
  },
  {
   "cell_type": "code",
   "execution_count": 67,
   "metadata": {
    "collapsed": true
   },
   "outputs": [],
   "source": [
    "class CategoricalToLabelEncodedFeaturesTransform(BaseEstimator, TransformerMixin):\n",
    "    \"\"\" Classe de Feature Transformer que transforma labels na representação Dummy.\n",
    "        Esse imputer mantém a entrada X como um DataFrame em vez de transformar em numpy.array.\n",
    "    \"\"\"\n",
    "    \n",
    "    def __init__(self):\n",
    "        self.le = preprocessing.LabelEncoder()\n",
    "        \n",
    "    def fit(self, X, y=None, **fit_params):\n",
    "        self.le.fit(X['grade'])\n",
    "        return self\n",
    "    \n",
    "    def transform(self, X):        \n",
    "        X_t = X.drop(['grade'], axis=1)\n",
    "        grade_enconded = self.le.transform(X['grade'])\n",
    "        X_t = X_t.replace({\"grade\": grade_enconded})\n",
    "        \n",
    "        return X_t"
   ]
  },
  {
   "cell_type": "markdown",
   "metadata": {},
   "source": [
    "### LabelCount encoding"
   ]
  },
  {
   "cell_type": "markdown",
   "metadata": {},
   "source": [
    " - Rank categorical variables by count in train set\n",
    " - Not sensitive to outliers\n",
    " - Won’t give same encoding to different variables\n",
    " - Useful for both linear and non-linear algorithms"
   ]
  },
  {
   "cell_type": "code",
   "execution_count": 68,
   "metadata": {},
   "outputs": [
    {
     "data": {
      "text/plain": [
       "{'ANY': 177, 'MORTGAGE': 80059, 'NONE': 3, 'OWN': 19871, 'RENT': 60707}"
      ]
     },
     "execution_count": 68,
     "metadata": {},
     "output_type": "execute_result"
    }
   ],
   "source": [
    "label_count = dict(x_train.home_ownership.value_counts())\n",
    "label_count"
   ]
  },
  {
   "cell_type": "code",
   "execution_count": 69,
   "metadata": {},
   "outputs": [],
   "source": [
    "x_train = x_train.replace({\"home_ownership\": label_count})"
   ]
  },
  {
   "cell_type": "code",
   "execution_count": 70,
   "metadata": {},
   "outputs": [
    {
     "data": {
      "text/plain": [
       "(160817, 71)"
      ]
     },
     "execution_count": 70,
     "metadata": {},
     "output_type": "execute_result"
    }
   ],
   "source": [
    "x_train.shape"
   ]
  },
  {
   "cell_type": "code",
   "execution_count": 71,
   "metadata": {},
   "outputs": [
    {
     "data": {
      "text/plain": [
       "80059    80059\n",
       "60707    60707\n",
       "19871    19871\n",
       "177        177\n",
       "3            3\n",
       "Name: home_ownership, dtype: int64"
      ]
     },
     "execution_count": 71,
     "metadata": {},
     "output_type": "execute_result"
    }
   ],
   "source": [
    "x_train.home_ownership.value_counts()"
   ]
  },
  {
   "cell_type": "code",
   "execution_count": 72,
   "metadata": {
    "collapsed": true
   },
   "outputs": [],
   "source": [
    "class CategoricalToLabelCountFeaturesTransform(BaseEstimator, TransformerMixin):\n",
    "    \"\"\" Classe de Feature Transformer que transforma labels na representação Dummy.\n",
    "        Esse imputer mantém a entrada X como um DataFrame em vez de transformar em numpy.array.\n",
    "    \"\"\"\n",
    "        \n",
    "    def fit(self, X, y=None, **fit_params):\n",
    "        return self\n",
    "    \n",
    "    def transform(self, X):        \n",
    "        label_count = dict(X.home_ownership.value_counts())\n",
    "        X = X.replace({\"home_ownership\": label_count})\n",
    "        \n",
    "        return X"
   ]
  },
  {
   "cell_type": "markdown",
   "metadata": {},
   "source": [
    "### Target encoding"
   ]
  },
  {
   "cell_type": "markdown",
   "metadata": {},
   "source": [
    " - Encode categorical variables by their ratio of target (binary classification or regression)\n",
    " - Be careful to avoid overfit!"
   ]
  },
  {
   "cell_type": "code",
   "execution_count": 73,
   "metadata": {},
   "outputs": [
    {
     "data": {
      "text/plain": [
       "{'car': 0.012560861102992843,\n",
       " 'credit_card': 0.191578004812924,\n",
       " 'debt_consolidation': 0.55075644987781147,\n",
       " 'home_improvement': 0.080109689895968714,\n",
       " 'house': 0.010340946541721335,\n",
       " 'major_purchase': 0.026744684952461493,\n",
       " 'medical': 0.016764396798845893,\n",
       " 'moving': 0.0091035151756344163,\n",
       " 'other': 0.080551185508994691,\n",
       " 'renewable_energy': 0.00069644378392831607,\n",
       " 'small_business': 0.01108713631021596,\n",
       " 'vacation': 0.009700466990430116,\n",
       " 'wedding': 6.2182480707885361e-06}"
      ]
     },
     "execution_count": 73,
     "metadata": {},
     "output_type": "execute_result"
    }
   ],
   "source": [
    "target_prop = dict(x_train.purpose.value_counts(normalize=True))\n",
    "target_prop"
   ]
  },
  {
   "cell_type": "code",
   "execution_count": 74,
   "metadata": {},
   "outputs": [
    {
     "data": {
      "text/plain": [
       "{'car': 0.012560861102992843,\n",
       " 'credit_card': 0.191578004812924,\n",
       " 'debt_consolidation': 0.55075644987781147,\n",
       " 'home_improvement': 0.080109689895968714,\n",
       " 'house': 0.010340946541721335,\n",
       " 'major_purchase': 0.026744684952461493,\n",
       " 'medical': 0.016764396798845893,\n",
       " 'moving': 0.0091035151756344163,\n",
       " 'other': 0.080551185508994691,\n",
       " 'renewable_energy': 0.00069644378392831607,\n",
       " 'small_business': 0.01108713631021596,\n",
       " 'vacation': 0.009700466990430116,\n",
       " 'wedding': 6.2182480707885361e-06}"
      ]
     },
     "execution_count": 74,
     "metadata": {},
     "output_type": "execute_result"
    }
   ],
   "source": [
    "target_prop"
   ]
  },
  {
   "cell_type": "code",
   "execution_count": 75,
   "metadata": {},
   "outputs": [],
   "source": [
    "x_train = x_train.replace({\"purpose\": target_prop})"
   ]
  },
  {
   "cell_type": "code",
   "execution_count": 76,
   "metadata": {},
   "outputs": [
    {
     "data": {
      "text/plain": [
       "0.550756    88571\n",
       "0.191578    30809\n",
       "0.080551    12954\n",
       "0.080110    12883\n",
       "0.026745     4301\n",
       "0.016764     2696\n",
       "0.012561     2020\n",
       "0.011087     1783\n",
       "0.010341     1663\n",
       "0.009700     1560\n",
       "0.009104     1464\n",
       "0.000696      112\n",
       "0.000006        1\n",
       "Name: purpose, dtype: int64"
      ]
     },
     "execution_count": 76,
     "metadata": {},
     "output_type": "execute_result"
    }
   ],
   "source": [
    "x_train.purpose.value_counts()"
   ]
  },
  {
   "cell_type": "code",
   "execution_count": 77,
   "metadata": {
    "collapsed": true
   },
   "outputs": [],
   "source": [
    "class CategoricalToTargetEncondingFeaturesTransform(BaseEstimator, TransformerMixin):\n",
    "    \"\"\" Classe de Feature Transformer que transforma labels na representação Dummy.\n",
    "        Esse imputer mantém a entrada X como um DataFrame em vez de transformar em numpy.array.\n",
    "    \"\"\"\n",
    "        \n",
    "    def fit(self, X, y=None, **fit_params):\n",
    "        return self\n",
    "    \n",
    "    def transform(self, X):        \n",
    "        target_prop = dict(X.purpose.value_counts(normalize=True))\n",
    "        X = X.replace({\"purpose\": target_prop})\n",
    "        \n",
    "        return X"
   ]
  },
  {
   "cell_type": "markdown",
   "metadata": {},
   "source": [
    "Quais outras maneiras são interessantes para realizarmos os pré-processamento dos dados de localização?\n",
    "\n",
    " - https://medium.com/creditas-tech/incrementando-dados-geogr%C3%A1ficos-com-o-censo-nacional-do-ibge-54d342c4bdcf"
   ]
  },
  {
   "cell_type": "code",
   "execution_count": 78,
   "metadata": {
    "collapsed": true
   },
   "outputs": [],
   "source": [
    "# quando vale mais a pena usar um ou outro?"
   ]
  },
  {
   "cell_type": "markdown",
   "metadata": {},
   "source": [
    "### Depois da adição das variáveis categóricas como ficou o nosso dataset?"
   ]
  },
  {
   "cell_type": "code",
   "execution_count": 79,
   "metadata": {
    "collapsed": true
   },
   "outputs": [],
   "source": [
    "# Vamos fazer o pre processamento para os dados de teste"
   ]
  },
  {
   "cell_type": "code",
   "execution_count": 80,
   "metadata": {},
   "outputs": [],
   "source": [
    "pipeline = Pipeline([\n",
    "    (\"dummy_category_transform\",   CategoricalToDummyFeaturesTransform()),\n",
    "    (\"cat_to_label_count\",         CategoricalToLabelCountFeaturesTransform()),\n",
    "    (\"cat_to_label_encoded\",       CategoricalToLabelEncodedFeaturesTransform()),\n",
    "    (\"cat_to_targe_enconding\",     CategoricalToTargetEncondingFeaturesTransform()),\n",
    "    (\"zscore\",                     StandardScaler()),\n",
    "    (\"predictor\",                  LogisticRegression(random_state=42, class_weight='balanced')),\n",
    "])"
   ]
  },
  {
   "cell_type": "code",
   "execution_count": 81,
   "metadata": {
    "collapsed": true
   },
   "outputs": [],
   "source": [
    "# rodar a regressão logistica para todo o dataset"
   ]
  },
  {
   "cell_type": "code",
   "execution_count": 83,
   "metadata": {},
   "outputs": [
    {
     "data": {
      "text/plain": [
       "Pipeline(memory=None,\n",
       "     steps=[('dummy_category_transform', CategoricalToDummyFeaturesTransform()), ('cat_to_label_count', CategoricalToLabelCountFeaturesTransform()), ('cat_to_label_encoded', CategoricalToLabelEncodedFeaturesTransform()), ('cat_to_targe_enconding', CategoricalToTargetEncondingFeaturesTransform()), ('zscor...alty='l2', random_state=42,\n",
       "          solver='liblinear', tol=0.0001, verbose=0, warm_start=False))])"
      ]
     },
     "execution_count": 83,
     "metadata": {},
     "output_type": "execute_result"
    }
   ],
   "source": [
    "# trainamento\n",
    "pipeline.fit(X_train, y_train)"
   ]
  },
  {
   "cell_type": "code",
   "execution_count": 84,
   "metadata": {},
   "outputs": [],
   "source": [
    "# avaliação do modelo na massa de teste\n",
    "y_true = y_train\n",
    "y_pred = pipeline.predict(X_train)\n",
    "y_pred_prob = pipeline.predict_proba(X_train)"
   ]
  },
  {
   "cell_type": "code",
   "execution_count": 85,
   "metadata": {},
   "outputs": [
    {
     "name": "stdout",
     "output_type": "stream",
     "text": [
      "Normalized confusion matrix\n",
      "[[ 0.62587748  0.37412252]\n",
      " [ 0.34442299  0.65557701]]\n"
     ]
    },
    {
     "data": {
      "text/plain": [
       "<matplotlib.axes._subplots.AxesSubplot at 0x7fa855029da0>"
      ]
     },
     "execution_count": 85,
     "metadata": {},
     "output_type": "execute_result"
    },
    {
     "data": {
      "image/png": "[encoded data removed]",
      "text/plain": [
       "<matplotlib.figure.Figure at 0x7fa854fc9f98>"
      ]
     },
     "metadata": {},
     "output_type": "display_data"
    }
   ],
   "source": [
    "plot_confusion_matrix(y_train, y_pred, normalize=True,\n",
    "                      title='Confusion matrix, normalized')"
   ]
  },
  {
   "cell_type": "code",
   "execution_count": 88,
   "metadata": {
    "collapsed": true
   },
   "outputs": [],
   "source": [
    "# avaliação do modelo na massa de treino\n",
    "y_true = y_test\n",
    "y_pred = pipeline.predict(X_test)\n",
    "y_pred_prob = pipeline.predict_proba(X_test)"
   ]
  },
  {
   "cell_type": "code",
   "execution_count": 89,
   "metadata": {},
   "outputs": [
    {
     "name": "stdout",
     "output_type": "stream",
     "text": [
      "Normalized confusion matrix\n",
      "[[ 0.75083288  0.24916712]\n",
      " [ 0.47313106  0.52686894]]\n"
     ]
    },
    {
     "data": {
      "text/plain": [
       "<matplotlib.axes._subplots.AxesSubplot at 0x7fa85548ffd0>"
      ]
     },
     "execution_count": 89,
     "metadata": {},
     "output_type": "execute_result"
    },
    {
     "data": {
      "image/png": "[encoded data removed]",
      "text/plain": [
       "<matplotlib.figure.Figure at 0x7fa8550abb70>"
      ]
     },
     "metadata": {},
     "output_type": "display_data"
    }
   ],
   "source": [
    "plot_confusion_matrix(y_test, y_pred, normalize=True,\n",
    "                      title='Confusion matrix, normalized')"
   ]
  },
  {
   "cell_type": "code",
   "execution_count": 92,
   "metadata": {
    "collapsed": true
   },
   "outputs": [],
   "source": [
    "# verificar criação de novas features"
   ]
  },
  {
   "cell_type": "markdown",
   "metadata": {},
   "source": [
    "Criar a variavel _region_ com as regioes dos Estados dos Estados Unidos"
   ]
  },
  {
   "cell_type": "code",
   "execution_count": 93,
   "metadata": {
    "collapsed": true
   },
   "outputs": [],
   "source": [
    "df['addr_state'].unique()\n",
    "\n",
    "west = ['CA', 'OR', 'UT','WA', 'CO', 'NV', 'AK', 'MT', 'HI', 'WY', 'ID']\n",
    "south_west = ['AZ', 'TX', 'NM', 'OK']\n",
    "south_east = ['GA', 'NC', 'VA', 'FL', 'KY', 'SC', 'LA', 'AL', 'WV', 'DC', 'AR', 'DE', 'MS', 'TN' ]\n",
    "mid_west = ['IL', 'MO', 'MN', 'OH', 'WI', 'KS', 'MI', 'SD', 'IA', 'NE', 'IN', 'ND']\n",
    "north_east = ['CT', 'NY', 'PA', 'NJ', 'RI','MA', 'MD', 'VT', 'NH', 'ME']"
   ]
  },
  {
   "cell_type": "code",
   "execution_count": 94,
   "metadata": {},
   "outputs": [],
   "source": [
    "df['region'] = np.nan\n",
    "\n",
    "def finding_regions(state):\n",
    "    if state in west:\n",
    "        return 'West'\n",
    "    elif state in south_west:\n",
    "        return 'SouthWest'\n",
    "    elif state in south_east:\n",
    "        return 'SouthEast'\n",
    "    elif state in mid_west:\n",
    "        return 'MidWest'\n",
    "    elif state in north_east:\n",
    "        return 'NorthEast'\n",
    "    \n",
    "\n",
    "\n",
    "df['region'] = df['addr_state'].apply(finding_regions)"
   ]
  },
  {
   "cell_type": "markdown",
   "metadata": {},
   "source": [
    "Outra possibilidade é utilizar uma coluna que é categorica e transformá-la em um número"
   ]
  },
  {
   "cell_type": "code",
   "execution_count": 95,
   "metadata": {
    "collapsed": true
   },
   "outputs": [],
   "source": [
    "# Podemos fazer isso com a coluna emp_length"
   ]
  },
  {
   "cell_type": "code",
   "execution_count": 96,
   "metadata": {
    "collapsed": true
   },
   "outputs": [],
   "source": [
    "employment_length = ['10+ years', '< 1 year', '1 year', '3 years', '8 years', '9 years',\n",
    "                    '4 years', '5 years', '6 years', '2 years', '7 years', 'n/a']\n",
    "\n",
    "# Create a new column and convert emp_length to integers.\n",
    "\n",
    "lst = [df]\n",
    "df['emp_length_int'] = np.nan\n",
    "\n",
    "for col in lst:\n",
    "    col.loc[col['emp_length'] == '10+ years', \"emp_length_int\"] = 10\n",
    "    col.loc[col['emp_length'] == '9 years', \"emp_length_int\"] = 9\n",
    "    col.loc[col['emp_length'] == '8 years', \"emp_length_int\"] = 8\n",
    "    col.loc[col['emp_length'] == '7 years', \"emp_length_int\"] = 7\n",
    "    col.loc[col['emp_length'] == '6 years', \"emp_length_int\"] = 6\n",
    "    col.loc[col['emp_length'] == '5 years', \"emp_length_int\"] = 5\n",
    "    col.loc[col['emp_length'] == '4 years', \"emp_length_int\"] = 4\n",
    "    col.loc[col['emp_length'] == '3 years', \"emp_length_int\"] = 3\n",
    "    col.loc[col['emp_length'] == '2 years', \"emp_length_int\"] = 2\n",
    "    col.loc[col['emp_length'] == '1 year', \"emp_length_int\"] = 1\n",
    "    col.loc[col['emp_length'] == '< 1 year', \"emp_length_int\"] = 0.5\n",
    "    col.loc[col['emp_length'] == 'n/a', \"emp_length_int\"] = 0\n",
    " "
   ]
  },
  {
   "cell_type": "markdown",
   "metadata": {},
   "source": [
    "O reverso também pode ser feito, criar variáveis categóricas a partir de númericas"
   ]
  },
  {
   "cell_type": "code",
   "execution_count": 97,
   "metadata": {},
   "outputs": [],
   "source": [
    "# Let's create categories for annual_income since most of the bad loans are located below 100k\n",
    "\n",
    "df['income_category'] = np.nan\n",
    "lst = [df]\n",
    "\n",
    "for col in lst:\n",
    "    col.loc[col['annual_inc'] <= 100000, 'income_category'] = 'Low'\n",
    "    col.loc[(col['annual_inc'] > 100000) & (col['annual_inc'] <= 200000), 'income_category'] = 'Medium'\n",
    "    col.loc[col['annual_inc'] > 200000, 'income_category'] = 'High'"
   ]
  },
  {
   "cell_type": "markdown",
   "metadata": {},
   "source": [
    "Para mais detalhes sobre outros métodos de Feature Engineering veja [esses slides](https://www.dropbox.com/s/mebc9i6kxgm516c/feature-engineering-mlmeetup.pdf?dl=0) do HJ van Veen"
   ]
  },
  {
   "cell_type": "code",
   "execution_count": 98,
   "metadata": {
    "collapsed": true
   },
   "outputs": [],
   "source": [
    "# Adicionar como exercício a construção de um pipeline"
   ]
  }
 ],
 "metadata": {
  "kernelspec": {
   "display_name": "Python 3",
   "language": "python",
   "name": "python3"
  },
  "language_info": {
   "codemirror_mode": {
    "name": "ipython",
    "version": 3
   },
   "file_extension": ".py",
   "mimetype": "text/x-python",
   "name": "python",
   "nbconvert_exporter": "python",
   "pygments_lexer": "ipython3",
   "version": "3.6.3"
  }
 },
 "nbformat": 4,
 "nbformat_minor": 2
}
