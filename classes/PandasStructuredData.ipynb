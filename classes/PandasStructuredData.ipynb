{
 "cells": [
  {
   "cell_type": "markdown",
   "metadata": {},
   "source": [
    "# Análise de dados estruturados"
   ]
  },
  {
   "cell_type": "code",
   "execution_count": 1,
   "metadata": {
    "collapsed": true
   },
   "outputs": [],
   "source": [
    "import pandas as pd"
   ]
  },
  {
   "cell_type": "markdown",
   "metadata": {},
   "source": [
    "![panda](https://media.giphy.com/media/HDR31jsQUPqQo/giphy.gif)"
   ]
  },
  {
   "cell_type": "code",
   "execution_count": null,
   "metadata": {
    "collapsed": true
   },
   "outputs": [],
   "source": []
  },
  {
   "cell_type": "markdown",
   "metadata": {},
   "source": [
    "Objetivo da aula: Aprender a estruturar e manipular dados a partir de diferentes fontes,\n",
    "utilizando o Pandas e fazer análise desses dados utilizando os métodos e funções da\n",
    "biblioteca\n",
    "\n",
    "Outcomes esperados:\n",
    "\n",
    "● Discutir as aplicações do uso da biblioteca Pandas em projetos reais de Ciência de\n",
    "Dados, trazendo exemplos de empresas de tecnologia\n",
    "\n",
    "● Aprofundar os métodos e funções da biblioteca Pandas utilizados para manipulação\n",
    "e análise de dados estruturados\n",
    "\n",
    "● Praticar a importação, leitura, organização e manipulação de dados de diferentes\n",
    "fontes para utilizar o Pandas para análise desse dataset\n",
    "\n",
    "Perguntas-chave:\n",
    "\n",
    "● Como preparar os dados estruturados para manipular utilizando o Pandas?\n",
    "\n",
    "● Quais são os métodos e funções mais utilizados do Pandas em projetos de Ciência\n",
    "de Dados?\n",
    "\n",
    "● Em que estágios de um projeto a biblioteca pode ajudar o Cientista de Dados a\n",
    "manipular dados estruturados?"
   ]
  }
 ],
 "metadata": {
  "kernelspec": {
   "display_name": "Python 3",
   "language": "python",
   "name": "python3"
  },
  "language_info": {
   "codemirror_mode": {
    "name": "ipython",
    "version": 3
   },
   "file_extension": ".py",
   "mimetype": "text/x-python",
   "name": "python",
   "nbconvert_exporter": "python",
   "pygments_lexer": "ipython3",
   "version": "3.6.3"
  }
 },
 "nbformat": 4,
 "nbformat_minor": 2
}
